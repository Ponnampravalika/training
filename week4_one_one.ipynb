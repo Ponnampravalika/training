{
  "nbformat": 4,
  "nbformat_minor": 0,
  "metadata": {
    "colab": {
      "provenance": [],
      "authorship_tag": "ABX9TyOHylLvOiO+30upIjlnoVgx",
      "include_colab_link": true
    },
    "kernelspec": {
      "name": "python3",
      "display_name": "Python 3"
    },
    "language_info": {
      "name": "python"
    }
  },
  "cells": [
    {
      "cell_type": "markdown",
      "metadata": {
        "id": "view-in-github",
        "colab_type": "text"
      },
      "source": [
        "<a href=\"https://colab.research.google.com/github/Ponnampravalika/training/blob/main/week4_one_one.ipynb\" target=\"_parent\"><img src=\"https://colab.research.google.com/assets/colab-badge.svg\" alt=\"Open In Colab\"/></a>"
      ]
    },
    {
      "cell_type": "code",
      "execution_count": 1,
      "metadata": {
        "colab": {
          "base_uri": "https://localhost:8080/"
        },
        "id": "t-iQX2E8iQba",
        "outputId": "211495b1-8c23-41d8-b1d3-070354f32949"
      },
      "outputs": [
        {
          "output_type": "stream",
          "name": "stdout",
          "text": [
            "\n",
            " Hogwarts House Points Analysis:\n",
            "+----------+----+------------+\n",
            "|     house|year|total_points|\n",
            "+----------+----+------------+\n",
            "|Gryffindor|   1|          80|\n",
            "| Slytherin|   1|          60|\n",
            "|Gryffindor|   2|          90|\n",
            "| Slytherin|   2|          70|\n",
            "|Hufflepuff|   2|          65|\n",
            "| Ravenclaw|   2|          55|\n",
            "| Slytherin|   3|          85|\n",
            "+----------+----+------------+\n",
            "\n"
          ]
        }
      ],
      "source": [
        "from pyspark.sql import SparkSession\n",
        "from pyspark.sql.functions import col, sum as _sum, avg, desc, count\n",
        "spark = SparkSession.builder.appName(\"ThreeProblems\").getOrCreate()\n",
        "hogwarts_data = [\n",
        "    (\"Gryffindor\", 1, 80, \"Harry Potter\"),\n",
        "    (\"Slytherin\", 1, 60, \"Draco Malfoy\"),\n",
        "    (\"Ravenclaw\", 1, 45, \"Luna Lovegood\"),\n",
        "    (\"Hufflepuff\", 1, 30, \"Cedric Diggory\"),\n",
        "    (\"Gryffindor\", 2, 90, \"Hermione Granger\"),\n",
        "    (\"Slytherin\", 2, 70, \"Pansy Parkinson\"),\n",
        "    (\"Ravenclaw\", 2, 55, \"Cho Chang\"),\n",
        "    (\"Hufflepuff\", 2, 65, \"Hannah Abbott\"),\n",
        "    (\"Gryffindor\", 3, 20, \"Ron Weasley\"),\n",
        "    (\"Slytherin\", 3, 85, \"Blaise Zabini\")\n",
        "]\n",
        "columns1 = [\"house\", \"year\", \"points\", \"student\"]\n",
        "df1 = spark.createDataFrame(hogwarts_data, columns1)\n",
        "\n",
        "hogwarts_result = (\n",
        "    df1.select(\"house\", \"year\", \"points\")\n",
        "       .filter(col(\"points\") > 50)\n",
        "       .groupBy(\"house\", \"year\")\n",
        "       .agg(_sum(\"points\").alias(\"total_points\"))\n",
        "       .orderBy(\"year\", desc(\"total_points\"))\n",
        ")\n",
        "print(\"\\n Hogwarts House Points Analysis:\")\n",
        "hogwarts_result.show()\n",
        "\n"
      ]
    },
    {
      "cell_type": "code",
      "source": [
        "from pyspark.sql.functions import avg\n",
        "data2 = [\n",
        "    (\"Aragorn\", \"Human\", 10, 2, \"Helms Deep\"),\n",
        "    (\"Legolas\", \"Elf\", 15, 0, \"Helms Deep\"),\n",
        "    (\"Gimli\", \"Dwarf\", 8, 3, \"Helms Deep\"),\n",
        "    (\"Frodo\", \"Hobbit\", 2, 1, \"Moria\"),\n",
        "    (\"Sam\", \"Hobbit\", 4, 2, \"Moria\"),\n",
        "    (\"Gandalf\", \"Wizard\", 12, 1, \"Moria\"),\n",
        "    (\"Boromir\", \"Human\", 7, 4, \"Amon Hen\"),\n",
        "    (\"Legolas\", \"Elf\", 20, 0, \"Amon Hen\"),\n",
        "    (\"Aragorn\", \"Human\", 9, 2, \"Amon Hen\")]\n",
        "columns2 = [\"name\", \"race\", \"enemies_defeated\", \"injuries\", \"battle\"]\n",
        "df2 = spark.createDataFrame(data2, columns2)\n",
        "result2 = (df2.select(\"name\", \"race\", \"enemies_defeated\")\n",
        "     .filter(col(\"enemies_defeated\") > 5)\n",
        "    .groupBy(\"race\")\n",
        "    .agg(avg(\"enemies_defeated\").alias(\"avg_enemies_defeated\"))\n",
        "    .orderBy(col(\"avg_enemies_defeated\").desc()))\n",
        "print(\"Fellowship of the Ring Battle Stats\")\n",
        "result2.show()\n"
      ],
      "metadata": {
        "colab": {
          "base_uri": "https://localhost:8080/"
        },
        "id": "6BFB1zMojbq0",
        "outputId": "38376018-0103-493e-db62-5579e3f6d4d4"
      },
      "execution_count": 3,
      "outputs": [
        {
          "output_type": "stream",
          "name": "stdout",
          "text": [
            "Fellowship of the Ring Battle Stats\n",
            "+------+--------------------+\n",
            "|  race|avg_enemies_defeated|\n",
            "+------+--------------------+\n",
            "|   Elf|                17.5|\n",
            "|Wizard|                12.0|\n",
            "| Human|   8.666666666666666|\n",
            "| Dwarf|                 8.0|\n",
            "+------+--------------------+\n",
            "\n"
          ]
        }
      ]
    },
    {
      "cell_type": "code",
      "source": [
        "from pyspark.sql import SparkSession\n",
        "from pyspark.sql.functions import col, count, sum as _sum\n",
        "\n",
        "spark = SparkSession.builder.appName(\"SubmarineData\").getOrCreate()\n",
        "\n",
        "data3 = [\n",
        "    (\"SUB-01\", \"Pacific Strike\", 5, \"Success\"),\n",
        "    (\"SUB-02\", \"Atlantic Surge\", 2, \"Failure\"),\n",
        "    (\"SUB-01\", \"Arctic Blitz\", 4, \"Success\"),\n",
        "    (\"SUB-03\", \"Indian Ocean\", 6, \"Success\"),\n",
        "    (\"SUB-02\", \"Pacific Strike\", 3, \"Success\"),\n",
        "    (\"SUB-01\", \"Coral Sea\", 7, \"Success\"),\n",
        "    (\"SUB-03\", \"Arctic Blitz\", 1, \"Failure\"),\n",
        "    (\"SUB-02\", \"Bering Strait\", 5, \"Success\")\n",
        "]\n",
        "\n",
        "columns3 = [\"submarine_id\", \"mission_name\", \"warheads_launched\", \"status\"]\n",
        "\n",
        "df3 = spark.createDataFrame(data3, columns3)\n",
        "\n",
        "result3 = (\n",
        "    df3.select(\"submarine_id\", \"mission_name\", \"warheads_launched\")\n",
        "       .filter(col(\"warheads_launched\") > 3)\n",
        "       .groupBy(\"submarine_id\")\n",
        "       .agg(\n",
        "           count(\"mission_name\").alias(\"total_missions\"),\n",
        "           _sum(\"warheads_launched\").alias(\"total_warheads_launched\")\n",
        "       )\n",
        "       .orderBy(col(\"total_warheads_launched\").desc())\n",
        ")\n",
        "\n",
        "print(\"Submarine Nuclear Warhead Deployment\")\n",
        "result3.show()\n"
      ],
      "metadata": {
        "colab": {
          "base_uri": "https://localhost:8080/"
        },
        "id": "KeaZABspkiMX",
        "outputId": "26f32838-9094-4163-cd62-2fcaf36038a9"
      },
      "execution_count": 11,
      "outputs": [
        {
          "output_type": "stream",
          "name": "stdout",
          "text": [
            "Submarine Nuclear Warhead Deployment\n",
            "+------------+--------------+-----------------------+\n",
            "|submarine_id|total_missions|total_warheads_launched|\n",
            "+------------+--------------+-----------------------+\n",
            "|      SUB-01|             3|                     16|\n",
            "|      SUB-03|             1|                      6|\n",
            "|      SUB-02|             1|                      5|\n",
            "+------------+--------------+-----------------------+\n",
            "\n"
          ]
        }
      ]
    }
  ]
}